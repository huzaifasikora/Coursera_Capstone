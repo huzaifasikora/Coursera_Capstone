{
    "cells": [
        {
            "cell_type": "markdown",
            "metadata": {
                "collapsed": true
            },
            "source": "# The Battle of Neighborhoods | Data Description"
        },
        {
            "cell_type": "markdown",
            "metadata": {},
            "source": "## Data Description:\n\nData Link: https://en.wikipedia.org/wiki/List_of_postal_codes_of_Canada:_M \n\nWill use Scarborough dataset which we scrapped from wikipedia on Week 3. Dataset consisting of latitude and longitude, zip codes.\n\n\n\n## Foursquare API Data:\n\nWe will need data about different venues in different neighborhoods of that specific borough. \nThis information will be extracted using \"Foursquare\" locational information. Foursquare is a location data provider with all the information about nearby venues and events within an area of interest using coordinate postitions. \nSuch information includes venue names, geo locations, menus and even photos. \nAs it is, the foursquare location platform will be used as the sole data source since all the stated required information can be obtained through this API. \n\nAfter extracting the list of neighborhoods, we then retrieve information about different venues in each neighborhood using the Foursquare API. For each neighborhood, we have chosen the radius to be 100 meter. This can be a user defined approach to be it dynamic.\n\nThe data retrieved from Foursquare contains information of venues within a specified distance of the longitude and latitude of the postcodes. The information obtained per venue is as following:\n\n    1. Neighborhood\n    2. Neighborhood Latitude\n    3. Neighborhood Longitude\n    4. Venue\n    5. Name of the venue e.g. the name of a store or restaurant\n    6. Venue Latitude\n    7. Venue Longitude\n    8. Venue Category"
        }
    ],
    "metadata": {
        "kernelspec": {
            "display_name": "Python 3.7",
            "language": "python",
            "name": "python3"
        },
        "language_info": {
            "codemirror_mode": {
                "name": "ipython",
                "version": 3
            },
            "file_extension": ".py",
            "mimetype": "text/x-python",
            "name": "python",
            "nbconvert_exporter": "python",
            "pygments_lexer": "ipython3",
            "version": "3.7.9"
        }
    },
    "nbformat": 4,
    "nbformat_minor": 1
}